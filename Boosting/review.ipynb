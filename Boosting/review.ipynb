{
 "cells": [
  {
   "cell_type": "markdown",
   "metadata": {
    "collapsed": true
   },
   "source": [
    "## showing how the bosting works\n",
    "First, read the logs of man and bot to compare them."
   ]
  },
  {
   "cell_type": "code",
   "execution_count": 2,
   "metadata": {},
   "outputs": [],
   "source": [
    "from parser.reader import read\n",
    "\n",
    "path_human = '/Users/casatka/Desktop/all/github/2019-knu-bdetect/union_logs/Bot/bot1'\n",
    "path_bot = '/Users/casatka/Desktop/all/github/2019-knu-bdetect/union_logs/User/human1'\n",
    "\n",
    "df_human = read(path_human)\n",
    "df_bot = read(path_bot)"
   ]
  },
  {
   "cell_type": "code",
   "execution_count": 6,
   "metadata": {},
   "outputs": [],
   "source": [
    "# split\n",
    "\n",
    "from parser.windows import get_windows\n",
    "\n",
    "human = get_windows(df_human, interval=10000)\n",
    "bot = get_windows(df_bot, interval=10000)"
   ]
  },
  {
   "cell_type": "code",
   "execution_count": 7,
   "metadata": {},
   "outputs": [
    {
     "name": "stdout",
     "output_type": "stream",
     "text": [
      "accuracy : 1.0\n[[12  0]\n [ 0  6]]\n              precision    recall  f1-score   support\n\n           0       1.00      1.00      1.00        12\n           1       1.00      1.00      1.00         6\n\n   micro avg       1.00      1.00      1.00        18\n   macro avg       1.00      1.00      1.00        18\nweighted avg       1.00      1.00      1.00        18\n\n"
     ]
    }
   ],
   "source": [
    "from boosting.AdaBoost import AdaBoost\n",
    "\n",
    "score, matrix, report = AdaBoost(bot, human)\n",
    "\n",
    "print(f'accuracy : {score}')\n",
    "print(matrix)\n",
    "print(report)\n",
    "\n"
   ]
  },
  {
   "cell_type": "code",
   "execution_count": 8,
   "metadata": {},
   "outputs": [
    {
     "name": "stdout",
     "output_type": "stream",
     "text": [
      "accuracy : 1.0\n[[14  0]\n [ 0  4]]\n              precision    recall  f1-score   support\n\n           0       1.00      1.00      1.00        14\n           1       1.00      1.00      1.00         4\n\n   micro avg       1.00      1.00      1.00        18\n   macro avg       1.00      1.00      1.00        18\nweighted avg       1.00      1.00      1.00        18\n\n"
     ]
    }
   ],
   "source": [
    "from boosting.Bagging import Bagging\n",
    "\n",
    "score, matrix, report = AdaBoost(bot, human)\n",
    "\n",
    "print(f'accuracy : {score}')\n",
    "print(matrix)\n",
    "print(report)\n",
    "\n",
    "\n"
   ]
  },
  {
   "cell_type": "code",
   "execution_count": 9,
   "metadata": {},
   "outputs": [
    {
     "name": "stdout",
     "output_type": "stream",
     "text": [
      "accuracy : 1.0\n[[16  0]\n [ 0  2]]\n              precision    recall  f1-score   support\n\n           0       1.00      1.00      1.00        16\n           1       1.00      1.00      1.00         2\n\n   micro avg       1.00      1.00      1.00        18\n   macro avg       1.00      1.00      1.00        18\nweighted avg       1.00      1.00      1.00        18\n\n"
     ]
    }
   ],
   "source": [
    "from boosting.Gradient import Gradient\n",
    "\n",
    "score, matrix, report = AdaBoost(bot, human)\n",
    "\n",
    "print(f'accuracy : {score}')\n",
    "print(matrix)\n",
    "print(report)\n",
    "\n",
    "\n"
   ]
  },
  {
   "cell_type": "markdown",
   "metadata": {},
   "source": [
    "results for very small log sizes were presented here\n",
    "for large files, see the results folder"
   ]
  }
 ],
 "metadata": {
  "kernelspec": {
   "display_name": "Python 2",
   "language": "python",
   "name": "python2"
  },
  "language_info": {
   "codemirror_mode": {
    "name": "ipython",
    "version": 2
   },
   "file_extension": ".py",
   "mimetype": "text/x-python",
   "name": "python",
   "nbconvert_exporter": "python",
   "pygments_lexer": "ipython2",
   "version": "2.7.6"
  }
 },
 "nbformat": 4,
 "nbformat_minor": 0
}
