{
 "cells": [
  {
   "cell_type": "markdown",
   "metadata": {
    "collapsed": true
   },
   "source": [
    "## showing how the parser works\n"
   ]
  },
  {
   "cell_type": "code",
   "execution_count": 4,
   "metadata": {},
   "outputs": [],
   "source": [
    "# first we need to import modules.\n",
    "\n",
    "import pandas as pd\n",
    "import numpy as np\n",
    "import matplotlib.pyplot as plt\n",
    "import os\n"
   ]
  },
  {
   "cell_type": "markdown",
   "metadata": {},
   "source": [
    "The parser is needed to:\n",
    "1. read the logs (you can all at once in the directory)\n",
    "2. merge the game and touch in one log\n",
    "3. break the log into windows"
   ]
  },
  {
   "cell_type": "code",
   "execution_count": 5,
   "metadata": {},
   "outputs": [
    {
     "data": {
      "text/plain": [
       "True"
      ]
     },
     "execution_count": 5,
     "metadata": {},
     "output_type": "execute_result"
    }
   ],
   "source": [
    "# to read and rewrite union logs we need to use function read_all\n",
    "\n",
    "from parser.reader import read_all\n",
    "\n",
    "# then enter the appropriate directory paths\n",
    "\n",
    "from_direct = 'enter your path'\n",
    "to_direct = 'enter your path'\n",
    "\n",
    "print(read_all(from_direct, to_direct))"
   ]
  },
  {
   "cell_type": "code",
   "execution_count": 6,
   "metadata": {},
   "outputs": [
    {
     "name": "stdout",
     "output_type": "stream",
     "text": [
      "   Unnamed: 0     Time   Event    X-coord    Y-coord    ...      up-contact-minor  up-contact-major  average-move-contact-minor  average-move-contact-major  move-time\n0           0      1.0   Touch  1376.9312  284.00757    ...              2.467346          2.467346                         NaN                         NaN        NaN\n1           1   8450.0   Touch  1343.9374  368.02002    ...              2.517700          2.517700                         NaN                         NaN        1.0\n2           2  11967.0   Touch  1253.8989  513.00660    ...              2.568054          2.568054                         NaN                         NaN        0.0\n3           3  12106.0   Fight    10.0000        NaN    ...                   NaN               NaN                         NaN                         NaN        NaN\n4           4  18035.0   Touch  1778.8861  792.00440    ...              2.618408          2.618408                         NaN                         NaN        1.0\n\n[5 rows x 12 columns]\n"
     ]
    }
   ],
   "source": [
    "# let's look at the merged file\n",
    "\n",
    "from parser.reader import read\n",
    "\n",
    "path = 'get your path here'\n",
    "\n",
    "df = read(path)\n",
    "\n",
    "print(df.head())\n"
   ]
  },
  {
   "cell_type": "code",
   "execution_count": 8,
   "metadata": {},
   "outputs": [
    {
     "name": "stdout",
     "output_type": "stream",
     "text": [
      "=======0=======\n   Unnamed: 0    Time   Event    X-coord    Y-coord    ...      up-contact-minor  up-contact-major  average-move-contact-minor  average-move-contact-major  move-time\n0           0     1.0   Touch  1376.9312  284.00757    ...              2.467346          2.467346                         NaN                         NaN        NaN\n1           1  8450.0   Touch  1343.9374  368.02002    ...              2.517700          2.517700                         NaN                         NaN        1.0\n\n[2 rows x 12 columns]\n==============\n=======1=======\n   Unnamed: 0     Time   Event    X-coord    Y-coord    ...      up-contact-minor  up-contact-major  average-move-contact-minor  average-move-contact-major  move-time\n2           2  11967.0   Touch  1253.8989  513.00660    ...              2.568054          2.568054                         NaN                         NaN        0.0\n3           3  12106.0   Fight    10.0000        NaN    ...                   NaN               NaN                         NaN                         NaN        NaN\n4           4  18035.0   Touch  1778.8861  792.00440    ...              2.618408          2.618408                         NaN                         NaN        1.0\n5           5  21452.0   Touch  2005.9131  995.98755    ...              2.668762          2.668762                         NaN                         NaN        2.0\n6           6  21908.0    Drop     1.0000        NaN    ...                   NaN               NaN                         NaN                         NaN        NaN\n7           7  21909.0    Drop     2.0000        NaN    ...                   NaN               NaN                         NaN                         NaN        NaN\n\n[6 rows x 12 columns]\n==============\n=======2=======\n    Unnamed: 0     Time   Event    X-coord    Y-coord    ...      up-contact-minor  up-contact-major  average-move-contact-minor  average-move-contact-major  move-time\n8            8  22142.0    Drop     3.0000        NaN    ...                   NaN               NaN                         NaN                         NaN        NaN\n9            9  22891.0   Fight    20.0000        NaN    ...                   NaN               NaN                         NaN                         NaN        NaN\n10          10  25175.0   Touch  1195.9058  796.98120    ...              2.719116          2.719116                         NaN                         NaN        3.0\n11          11  25672.0   Touch  1179.9170  754.99146    ...              2.769470          2.769470                         NaN                         NaN        1.0\n12          12  25743.0    Drop     4.0000        NaN    ...                   NaN               NaN                         NaN                         NaN        NaN\n13          13  27866.0   Touch   577.9669  434.00390    ...              2.819824          2.819824                         NaN                         NaN        1.0\n14          14  31104.0   Touch  1061.9660  309.02344    ...              2.870178          2.870178                         NaN                         NaN        1.0\n\n[7 rows x 12 columns]\n==============\n=======3=======\n    Unnamed: 0     Time   Event    X-coord    Y-coord    ...      up-contact-minor  up-contact-major  average-move-contact-minor  average-move-contact-major  move-time\n15          15  34875.0   Touch  1176.9360  604.99510    ...              2.920532          2.920532                         NaN                         NaN        3.0\n16          16  35343.0   Touch  1161.9635  589.01000    ...              2.970886          2.970886                         NaN                         NaN        1.0\n17          17  35397.0   Fight    30.0000        NaN    ...                   NaN               NaN                         NaN                         NaN        NaN\n18          18  42663.0   Touch  1119.9591  275.99854    ...              3.021240          3.021240                         NaN                         NaN        0.0\n19          19  43090.0    Drop     5.0000        NaN    ...                   NaN               NaN                         NaN                         NaN        NaN\n20          20  43169.0   Touch  1109.9323  327.01904    ...              3.071594          3.071594                         NaN                         NaN        2.0\n21          21  43673.0   Touch  1100.9216  377.01782    ...              3.121948          3.121948                         NaN                         NaN        4.0\n22          22  44188.0   Touch  1090.9625  428.99414    ...              3.172302          3.172302                         NaN                         NaN        1.0\n\n[8 rows x 12 columns]\n==============\n=======4=======\n    Unnamed: 0     Time   Event    X-coord    Y-coord    ...      up-contact-minor  up-contact-major  average-move-contact-minor  average-move-contact-major  move-time\n23          23  47233.0   Touch  767.93520  274.02100    ...              3.222656          3.222656                         NaN                         NaN        2.0\n24          24  47277.0   Fight   40.00000        NaN    ...                   NaN               NaN                         NaN                         NaN        NaN\n25          25  47731.0   Touch  840.96860  325.99730    ...              3.273010          3.273010                         NaN                         NaN        3.0\n26          26  47930.0   Fight   50.00000        NaN    ...                   NaN               NaN                         NaN                         NaN        NaN\n27          27  48224.0   Touch  911.96960  375.99610    ...              3.323364          3.323364                         NaN                         NaN        0.0\n28          28  51178.0   Touch  417.94373  861.97630    ...              3.373718          3.373718                         NaN                         NaN        3.0\n29          29  51677.0   Touch  570.92100  777.99680    ...              3.424072          3.424072                         NaN                         NaN        0.0\n30          30  55180.0   Touch  373.97460  639.99756    ...              3.474426          3.474426                         NaN                         NaN        2.0\n31          31  55700.0   Touch  473.97217  619.00270    ...              3.524780          3.524780                         NaN                         NaN        0.0\n32          32  57137.0   Fight   60.00000        NaN    ...                   NaN               NaN                         NaN                         NaN        NaN\n\n[10 rows x 12 columns]\n==============\n=======5=======\n    Unnamed: 0     Time   Event     X-coord    Y-coord    ...      up-contact-minor  up-contact-major  average-move-contact-minor  average-move-contact-major  move-time\n33          33  61849.0   Touch   878.90810  439.01367    ...              3.575134          3.575134                         NaN                         NaN        4.0\n34          34  62351.0   Touch   907.90466  446.98975    ...              3.625488          3.625488                         NaN                         NaN        1.0\n35          35  68015.0   Touch  1657.88640  451.99950    ...              3.675842          3.675842                         NaN                         NaN        1.0\n\n[3 rows x 12 columns]\n==============\n=======6=======\n    Unnamed: 0     Time   Event    X-coord    Y-coord    ...      up-contact-minor  up-contact-major  average-move-contact-minor  average-move-contact-major  move-time\n36          36  75817.0   Touch  1287.9089  510.99610    ...              3.726196          3.726196                         NaN                         NaN        3.0\n37          37  76322.0   Touch  1256.9476  507.99683    ...              3.776550          3.776550                         NaN                         NaN        2.0\n38          38  76820.0   Touch  1227.9510  505.98633    ...              3.826904          3.826904                         NaN                         NaN        1.0\n39          39  81983.0   Touch   917.9315  610.99365    ...              3.877258          3.877258                         NaN                         NaN        2.0\n40          40  82337.0    Drop     6.0000        NaN    ...                   NaN               NaN                         NaN                         NaN        NaN\n\n[5 rows x 12 columns]\n==============\n=======7=======\n    Unnamed: 0     Time   Event    X-coord    Y-coord    ...      up-contact-minor  up-contact-major  average-move-contact-minor  average-move-contact-major  move-time\n41          41  88350.0   Touch   822.9474  681.98730    ...              3.927612          3.927612                         NaN                         NaN        2.0\n42          42  88791.0    Drop     7.0000        NaN    ...                   NaN               NaN                         NaN                         NaN        NaN\n43          43  88850.0   Touch   882.9730  639.99756    ...              3.977966          3.977966                         NaN                         NaN        1.0\n44          44  94688.0   Touch  1768.9270  601.99585    ...              4.028320          4.028320                         NaN                         NaN        5.0\n45          45  95114.0   Touch  1670.8942  586.99950    ...              4.078674          4.078674                         NaN                         NaN        1.0\n\n[5 rows x 12 columns]\n==============\n=======8=======\n    Unnamed: 0      Time   Event    X-coord    Y-coord    ...      up-contact-minor  up-contact-major  average-move-contact-minor  average-move-contact-major  move-time\n46          46  102433.0   Touch  1524.8950  484.99146    ...              4.129028          4.129028                         NaN                         NaN        3.0\n47          47  102950.0   Touch  1461.8884  487.00195    ...              4.179382          4.179382                         NaN                         NaN        2.0\n48          48  103439.0   Touch  1397.9333  489.01245    ...              4.229736          4.229736                         NaN                         NaN        1.0\n49          49  103641.0    Drop     8.0000        NaN    ...                   NaN               NaN                         NaN                         NaN        NaN\n50          50  105914.0   Touch  1098.9569  552.98584    ...              4.280090          4.280090                         NaN                         NaN        1.0\n51          51  110193.0   Touch  1716.8958  534.99023    ...              4.330444          4.330444                         NaN                         NaN        3.0\n52          52  110694.0   Touch  1626.9250  531.00220    ...              4.380798          4.380798                         NaN                         NaN        2.0\n53          53  111196.0   Touch  1534.9219  524.01490    ...              4.431152          4.431152                         NaN                         NaN        2.0\n\n[8 rows x 12 columns]\n==============\n=======9=======\n    Unnamed: 0      Time   Event     X-coord    Y-coord    ...      up-contact-minor  up-contact-major  average-move-contact-minor  average-move-contact-major  move-time\n54          54  115750.0   Touch  1248.95320  546.98730    ...              4.481506          4.481506                         NaN                         NaN        2.0\n55          55  115895.0   Fight    70.00000        NaN    ...                   NaN               NaN                         NaN                         NaN        NaN\n56          56  116263.0   Touch  1224.90230  540.00000    ...              4.531860          4.531860                         NaN                         NaN        2.0\n57          57  116762.0   Touch  1200.91920  531.99097    ...              4.582214          4.582214                         NaN                         NaN        3.0\n58          58  117318.0   Touch  1174.90360  525.99243    ...              4.632568          4.632568                         NaN                         NaN        1.0\n59          59  123115.0   Touch   990.96497  725.98755    ...              4.682922          4.682922                         NaN                         NaN        2.0\n60          60  123703.0   Touch  1003.90500  693.98440    ...              4.733276          4.733276                         NaN                         NaN        5.0\n61          61  124081.0    Drop     9.00000        NaN    ...                   NaN               NaN                         NaN                         NaN        NaN\n62          62  124328.0   Touch  1016.91284  660.99243    ...              4.783630          4.783630                         NaN                         NaN        1.0\n\n[9 rows x 12 columns]\n==============\n=======10=======\n    Unnamed: 0      Time   Event    X-coord    Y-coord    ...      up-contact-minor  up-contact-major  average-move-contact-minor  average-move-contact-major  move-time\n63          63  127694.0   Touch  1106.9513  666.00220    ...              4.833984          4.833984                         NaN                         NaN        1.0\n64          64  128194.0   Touch  1101.9379  642.00806    ...              4.884338          4.884338                         NaN                         NaN        2.0\n65          65  128708.0   Touch  1098.9569  618.01390    ...              4.934692          4.934692                         NaN                         NaN        2.0\n66          66  129278.0   Touch  1093.9435  593.98680    ...              4.985046          4.985046                         NaN                         NaN        1.0\n67          67  131916.0   Touch  1216.9080  324.01978    ...              5.035400          5.035400                         NaN                         NaN        3.0\n68          68  132415.0   Touch  1195.9058  348.01392    ...              5.085754          5.085754                         NaN                         NaN        2.0\n69          69  132916.0   Touch  1176.9360  374.01855    ...              5.136108          5.136108                         NaN                         NaN        1.0\n70          70  133044.0   Fight    80.0000        NaN    ...                   NaN               NaN                         NaN                         NaN        NaN\n71          71  135561.0   Touch  1159.9310  814.97680    ...              5.186462          5.186462                         NaN                         NaN        1.0\n\n[9 rows x 12 columns]\n==============\n=======11=======\n    Unnamed: 0      Time   Event    X-coord    Y-coord    ...      up-contact-minor  up-contact-major  average-move-contact-minor  average-move-contact-major  move-time\n72          72  138664.0   Touch  1122.9401  616.00340    ...              5.236816          5.236816                         NaN                         NaN        2.0\n73          73  139165.0   Touch  1116.9104  599.98535    ...              5.287170          5.287170                         NaN                         NaN        1.0\n74          74  139346.0   Fight    90.0000        NaN    ...                   NaN               NaN                         NaN                         NaN        NaN\n75          75  145740.0   Touch   633.9276   90.01099    ...              5.337524          5.337524                         NaN                         NaN        1.0\n76          76  146918.0   Fight   100.0000        NaN    ...                   NaN               NaN                         NaN                         NaN        NaN\n\n[5 rows x 12 columns]\n==============\n=======12=======\n    Unnamed: 0      Time   Event    X-coord    Y-coord    ...      up-contact-minor  up-contact-major  average-move-contact-minor  average-move-contact-major  move-time\n77          77  154834.0   Touch  1172.9388  272.01050    ...              5.387878          5.387878                         NaN                         NaN        4.0\n78          78  155231.0   Touch  1156.9501  309.02344    ...              5.438232          5.438232                         NaN                         NaN        1.0\n79          79  161072.0   Touch  1184.9304  498.01025    ...              5.488586          5.488586                         NaN                         NaN        0.0\n80          80  161203.0   Fight   110.0000        NaN    ...                   NaN               NaN                         NaN                         NaN        NaN\n\n[4 rows x 12 columns]\n==============\n"
     ]
    }
   ],
   "source": [
    "# and finally split the file into windows\n",
    "\n",
    "from parser.windows import get_windows\n",
    "\n",
    "windows = get_windows(df, interval=10000)\n",
    "\n",
    "for number, window in enumerate(windows):\n",
    "    print(f'======={number}=======')\n",
    "    print(window)\n",
    "    print('==============')"
   ]
  }
 ],
 "metadata": {
  "kernelspec": {
   "display_name": "Python 2",
   "language": "python",
   "name": "python2"
  },
  "language_info": {
   "codemirror_mode": {
    "name": "ipython",
    "version": 2
   },
   "file_extension": ".py",
   "mimetype": "text/x-python",
   "name": "python",
   "nbconvert_exporter": "python",
   "pygments_lexer": "ipython2",
   "version": "2.7.6"
  }
 },
 "nbformat": 4,
 "nbformat_minor": 0
}
