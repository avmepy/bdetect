{
 "cells": [
  {
   "cell_type": "markdown",
   "metadata": {
    "collapsed": true
   },
   "source": [
    "## showing how the classifier works\n",
    "First, read the logs of man and bot to compare them."
   ]
  },
  {
   "cell_type": "code",
   "execution_count": 8,
   "metadata": {},
   "outputs": [],
   "source": [
    "from parser.reader import read\n",
    "\n",
    "path_human = 'get ypur path here'\n",
    "path_bot = 'get your path here'\n",
    "\n",
    "df_human = read(path_human)\n",
    "df_bot = read(path_bot)"
   ]
  },
  {
   "cell_type": "code",
   "execution_count": 9,
   "metadata": {},
   "outputs": [],
   "source": [
    "# split\n",
    "\n",
    "from parser.windows import get_windows\n",
    "\n",
    "human = get_windows(df_human, interval=10000)\n",
    "bot = get_windows(df_bot, interval=10000)"
   ]
  },
  {
   "cell_type": "markdown",
   "metadata": {},
   "source": [
    "then look at the results of each classifier"
   ]
  },
  {
   "cell_type": "code",
   "execution_count": 20,
   "metadata": {},
   "outputs": [
    {
     "name": "stdout",
     "output_type": "stream",
     "text": [
      "accuracy : 0.9473684210526315\n[[15  0]\n [ 1  3]]\n              precision    recall  f1-score   support\n\n           0       0.94      1.00      0.97        15\n           1       1.00      0.75      0.86         4\n\n   micro avg       0.95      0.95      0.95        19\n   macro avg       0.97      0.88      0.91        19\nweighted avg       0.95      0.95      0.94        19\n\n"
     ]
    }
   ],
   "source": [
    "from Classifier.DecisionTree import DecisionTree\n",
    "\n",
    "score, matrix, report = DecisionTree(bot, human)\n",
    "\n",
    "print(f'accuracy : {score}')\n",
    "print(matrix)\n",
    "print(report)"
   ]
  },
  {
   "cell_type": "code",
   "execution_count": 23,
   "metadata": {},
   "outputs": [
    {
     "name": "stdout",
     "output_type": "stream",
     "text": [
      "accuracy : 0.9473684210526315\n[[13  1]\n [ 0  5]]\n              precision    recall  f1-score   support\n\n           0       1.00      0.93      0.96        14\n           1       0.83      1.00      0.91         5\n\n   micro avg       0.95      0.95      0.95        19\n   macro avg       0.92      0.96      0.94        19\nweighted avg       0.96      0.95      0.95        19\n\n"
     ]
    }
   ],
   "source": [
    "from Classifier.KNeighbors import KNeighbors\n",
    "\n",
    "score, matrix, report = KNeighbors(bot, human)\n",
    "\n",
    "print(f'accuracy : {score}')\n",
    "print(matrix)\n",
    "print(report)\n"
   ]
  },
  {
   "cell_type": "code",
   "execution_count": 37,
   "metadata": {},
   "outputs": [
    {
     "name": "stdout",
     "output_type": "stream",
     "text": [
      "accuracy : 0.8947368421052632\n[[12  1]\n [ 1  5]]\n              precision    recall  f1-score   support\n\n           0       0.92      0.92      0.92        13\n           1       0.83      0.83      0.83         6\n\n   micro avg       0.89      0.89      0.89        19\n   macro avg       0.88      0.88      0.88        19\nweighted avg       0.89      0.89      0.89        19\n\n"
     ]
    }
   ],
   "source": [
    "from Classifier.Logistic import Logistic\n",
    "\n",
    "score, matrix, report = Logistic(bot, human)\n",
    "\n",
    "print(f'accuracy : {score}')\n",
    "print(matrix)\n",
    "print(report)\n"
   ]
  },
  {
   "cell_type": "code",
   "execution_count": 79,
   "metadata": {},
   "outputs": [
    {
     "name": "stdout",
     "output_type": "stream",
     "text": [
      "accuracy : 0.8421052631578947\n[[11  2]\n [ 1  5]]\n              precision    recall  f1-score   support\n\n           0       0.92      0.85      0.88        13\n           1       0.71      0.83      0.77         6\n\n   micro avg       0.84      0.84      0.84        19\n   macro avg       0.82      0.84      0.82        19\nweighted avg       0.85      0.84      0.85        19\n\n"
     ]
    }
   ],
   "source": [
    "from Classifier.RandomForest import RandomForest\n",
    "\n",
    "score, matrix, report = RandomForest(bot, human)\n",
    "\n",
    "print(f'accuracy : {score}')\n",
    "print(matrix)\n",
    "print(report)\n"
   ]
  },
  {
   "cell_type": "markdown",
   "metadata": {},
   "source": [
    "results for very small log sizes were presented here\n",
    "for large files, see the results folder"
   ]
  },
  {
   "cell_type": "markdown",
   "metadata": {},
   "source": [
    "### let's compare human with human\n"
   ]
  },
  {
   "cell_type": "code",
   "execution_count": 6,
   "metadata": {},
   "outputs": [],
   "source": [
    "path_human2 = 'get your path here'\n",
    "\n",
    "df_human2 = read(path_human2) \n",
    "\n",
    "human2 = get_windows(df_human2, interval=10000)"
   ]
  },
  {
   "cell_type": "code",
   "execution_count": 12,
   "metadata": {},
   "outputs": [
    {
     "name": "stdout",
     "output_type": "stream",
     "text": [
      "accuracy : 1.0\n[[17  0]\n [ 0 20]]\n              precision    recall  f1-score   support\n\n           0       1.00      1.00      1.00        17\n           1       1.00      1.00      1.00        20\n\n   micro avg       1.00      1.00      1.00        37\n   macro avg       1.00      1.00      1.00        37\nweighted avg       1.00      1.00      1.00        37\n\n"
     ]
    }
   ],
   "source": [
    "from Classifier.Logistic import Logistic\n",
    "\n",
    "score, matrix, report = Logistic(human, human2)\n",
    "\n",
    "print(f'accuracy : {score}')\n",
    "print(matrix)\n",
    "print(report)\n",
    "\n"
   ]
  },
  {
   "cell_type": "code",
   "execution_count": 13,
   "metadata": {},
   "outputs": [
    {
     "name": "stdout",
     "output_type": "stream",
     "text": [
      "accuracy : 1.0\n[[15  0]\n [ 0 22]]\n              precision    recall  f1-score   support\n\n           0       1.00      1.00      1.00        15\n           1       1.00      1.00      1.00        22\n\n   micro avg       1.00      1.00      1.00        37\n   macro avg       1.00      1.00      1.00        37\nweighted avg       1.00      1.00      1.00        37\n\n"
     ]
    }
   ],
   "source": [
    "from Classifier.KNeighbors import KNeighbors\n",
    "\n",
    "score, matrix, report = KNeighbors(human, human2)\n",
    "\n",
    "print(f'accuracy : {score}')\n",
    "print(matrix)\n",
    "print(report)\n",
    "\n"
   ]
  },
  {
   "cell_type": "code",
   "execution_count": 15,
   "metadata": {},
   "outputs": [
    {
     "name": "stdout",
     "output_type": "stream",
     "text": [
      "accuracy : 1.0\n[[13  0]\n [ 0 24]]\n              precision    recall  f1-score   support\n\n           0       1.00      1.00      1.00        13\n           1       1.00      1.00      1.00        24\n\n   micro avg       1.00      1.00      1.00        37\n   macro avg       1.00      1.00      1.00        37\nweighted avg       1.00      1.00      1.00        37\n\n"
     ]
    }
   ],
   "source": [
    "from Classifier.RandomForest import RandomForest\n",
    "\n",
    "score, matrix, report = RandomForest(human, human2)\n",
    "\n",
    "print(f'accuracy : {score}')\n",
    "print(matrix)\n",
    "print(report)\n",
    "\n",
    "\n"
   ]
  },
  {
   "cell_type": "code",
   "execution_count": 16,
   "metadata": {},
   "outputs": [
    {
     "name": "stdout",
     "output_type": "stream",
     "text": [
      "accuracy : 1.0\n[[18  0]\n [ 0 19]]\n              precision    recall  f1-score   support\n\n           0       1.00      1.00      1.00        18\n           1       1.00      1.00      1.00        19\n\n   micro avg       1.00      1.00      1.00        37\n   macro avg       1.00      1.00      1.00        37\nweighted avg       1.00      1.00      1.00        37\n\n"
     ]
    }
   ],
   "source": [
    "from Classifier.DecisionTree import DecisionTree\n",
    "\n",
    "score, matrix, report = DecisionTree(human, human2)\n",
    "\n",
    "print(f'accuracy : {score}')\n",
    "print(matrix)\n",
    "print(report)\n",
    "\n",
    "\n"
   ]
  }
 ],
 "metadata": {
  "kernelspec": {
   "display_name": "Python 2",
   "language": "python",
   "name": "python2"
  },
  "language_info": {
   "codemirror_mode": {
    "name": "ipython",
    "version": 2
   },
   "file_extension": ".py",
   "mimetype": "text/x-python",
   "name": "python",
   "nbconvert_exporter": "python",
   "pygments_lexer": "ipython2",
   "version": "2.7.6"
  }
 },
 "nbformat": 4,
 "nbformat_minor": 0
}
